{
 "cells": [
  {
   "cell_type": "code",
   "execution_count": 1,
   "metadata": {},
   "outputs": [
    {
     "name": "stdout",
     "output_type": "stream",
     "text": [
      "Requirement already satisfied: nltk in c:\\users\\adwait\\appdata\\local\\programs\\python\\python310\\lib\\site-packages (3.9.1)\n",
      "Requirement already satisfied: click in c:\\users\\adwait\\appdata\\local\\programs\\python\\python310\\lib\\site-packages (from nltk) (8.1.8)\n",
      "Requirement already satisfied: joblib in c:\\users\\adwait\\appdata\\local\\programs\\python\\python310\\lib\\site-packages (from nltk) (1.4.2)\n",
      "Requirement already satisfied: regex>=2021.8.3 in c:\\users\\adwait\\appdata\\local\\programs\\python\\python310\\lib\\site-packages (from nltk) (2024.11.6)\n",
      "Requirement already satisfied: tqdm in c:\\users\\adwait\\appdata\\local\\programs\\python\\python310\\lib\\site-packages (from nltk) (4.66.1)\n",
      "Requirement already satisfied: colorama in c:\\users\\adwait\\appdata\\roaming\\python\\python310\\site-packages (from click->nltk) (0.4.6)\n"
     ]
    },
    {
     "name": "stderr",
     "output_type": "stream",
     "text": [
      "\n",
      "[notice] A new release of pip is available: 25.0.1 -> 25.1.1\n",
      "[notice] To update, run: python.exe -m pip install --upgrade pip\n"
     ]
    }
   ],
   "source": [
    "!pip install nltk"
   ]
  },
  {
   "cell_type": "code",
   "execution_count": 16,
   "metadata": {},
   "outputs": [],
   "source": [
    "corpus=\"\"\"Artificial Intelligence (AI) is the simulation of human intelligence in machines that are programmed to\n",
    "think, learn, and make decisions. It powers technologies like virtual assistants, self-driving cars, and recommendation systems. \n",
    "AI improves efficiency, automates tasks, and helps solve complex problems in fields such as healthcare, \n",
    "finance, and education. By analyzing vast amounts of data, AI systems can recognize patterns and predict outcomes. \n",
    "However, ethical concerns such as job displacement, privacy, and bias must be addressed. As AI continues to evolve, \n",
    "it holds the potential to greatly benefit society while requiring responsible development and thoughtful \n",
    "regulation to ensure its safe use.\n",
    "\"\"\""
   ]
  },
  {
   "cell_type": "code",
   "execution_count": 17,
   "metadata": {},
   "outputs": [
    {
     "name": "stdout",
     "output_type": "stream",
     "text": [
      "Artificial Intelligence (AI) is the simulation of human intelligence in machines that are programmed to\n",
      "think, learn, and make decisions. It powers technologies like virtual assistants, self-driving cars, and recommendation systems. \n",
      "AI improves efficiency, automates tasks, and helps solve complex problems in fields such as healthcare, \n",
      "finance, and education. By analyzing vast amounts of data, AI systems can recognize patterns and predict outcomes. \n",
      "However, ethical concerns such as job displacement, privacy, and bias must be addressed. As AI continues to evolve, \n",
      "it holds the potential to greatly benefit society while requiring responsible development and thoughtful \n",
      "regulation to ensure its safe use.\n",
      "\n"
     ]
    }
   ],
   "source": [
    "print(corpus)"
   ]
  },
  {
   "cell_type": "code",
   "execution_count": 18,
   "metadata": {},
   "outputs": [],
   "source": [
    "##  Tokenization\n",
    "## Sentence-->paragraphs\n",
    "from nltk.tokenize import sent_tokenize"
   ]
  },
  {
   "cell_type": "code",
   "execution_count": 19,
   "metadata": {},
   "outputs": [],
   "source": [
    "documents=sent_tokenize(corpus)"
   ]
  },
  {
   "cell_type": "code",
   "execution_count": 30,
   "metadata": {},
   "outputs": [
    {
     "name": "stdout",
     "output_type": "stream",
     "text": [
      "['Artificial Intelligence (AI) is the simulation of human intelligence in machines that are programmed to\\nthink, learn, and make decisions.', 'It powers technologies like virtual assistants, self-driving cars, and recommendation systems.', 'AI improves efficiency, automates tasks, and helps solve complex problems in fields such as healthcare, \\nfinance, and education.', 'By analyzing vast amounts of data, AI systems can recognize patterns and predict outcomes.', 'However, ethical concerns such as job displacement, privacy, and bias must be addressed.', 'As AI continues to evolve, \\nit holds the potential to greatly benefit society while requiring responsible development and thoughtful \\nregulation to ensure its safe use.']\n"
     ]
    }
   ],
   "source": [
    "print(documents)"
   ]
  },
  {
   "cell_type": "code",
   "execution_count": 20,
   "metadata": {},
   "outputs": [
    {
     "data": {
      "text/plain": [
       "list"
      ]
     },
     "execution_count": 20,
     "metadata": {},
     "output_type": "execute_result"
    }
   ],
   "source": [
    "type(documents)"
   ]
  },
  {
   "cell_type": "code",
   "execution_count": 21,
   "metadata": {},
   "outputs": [
    {
     "name": "stdout",
     "output_type": "stream",
     "text": [
      "Artificial Intelligence (AI) is the simulation of human intelligence in machines that are programmed to\n",
      "think, learn, and make decisions.\n",
      "It powers technologies like virtual assistants, self-driving cars, and recommendation systems.\n",
      "AI improves efficiency, automates tasks, and helps solve complex problems in fields such as healthcare, \n",
      "finance, and education.\n",
      "By analyzing vast amounts of data, AI systems can recognize patterns and predict outcomes.\n",
      "However, ethical concerns such as job displacement, privacy, and bias must be addressed.\n",
      "As AI continues to evolve, \n",
      "it holds the potential to greatly benefit society while requiring responsible development and thoughtful \n",
      "regulation to ensure its safe use.\n"
     ]
    }
   ],
   "source": [
    "for sentence in documents:\n",
    "    print(sentence)"
   ]
  },
  {
   "cell_type": "code",
   "execution_count": 22,
   "metadata": {},
   "outputs": [],
   "source": [
    "## Tokenization \n",
    "## Paragraph-->words\n",
    "## sentence--->words\n",
    "from nltk.tokenize import word_tokenize"
   ]
  },
  {
   "cell_type": "code",
   "execution_count": 23,
   "metadata": {},
   "outputs": [
    {
     "data": {
      "text/plain": [
       "['Artificial',\n",
       " 'Intelligence',\n",
       " '(',\n",
       " 'AI',\n",
       " ')',\n",
       " 'is',\n",
       " 'the',\n",
       " 'simulation',\n",
       " 'of',\n",
       " 'human',\n",
       " 'intelligence',\n",
       " 'in',\n",
       " 'machines',\n",
       " 'that',\n",
       " 'are',\n",
       " 'programmed',\n",
       " 'to',\n",
       " 'think',\n",
       " ',',\n",
       " 'learn',\n",
       " ',',\n",
       " 'and',\n",
       " 'make',\n",
       " 'decisions',\n",
       " '.',\n",
       " 'It',\n",
       " 'powers',\n",
       " 'technologies',\n",
       " 'like',\n",
       " 'virtual',\n",
       " 'assistants',\n",
       " ',',\n",
       " 'self-driving',\n",
       " 'cars',\n",
       " ',',\n",
       " 'and',\n",
       " 'recommendation',\n",
       " 'systems',\n",
       " '.',\n",
       " 'AI',\n",
       " 'improves',\n",
       " 'efficiency',\n",
       " ',',\n",
       " 'automates',\n",
       " 'tasks',\n",
       " ',',\n",
       " 'and',\n",
       " 'helps',\n",
       " 'solve',\n",
       " 'complex',\n",
       " 'problems',\n",
       " 'in',\n",
       " 'fields',\n",
       " 'such',\n",
       " 'as',\n",
       " 'healthcare',\n",
       " ',',\n",
       " 'finance',\n",
       " ',',\n",
       " 'and',\n",
       " 'education',\n",
       " '.',\n",
       " 'By',\n",
       " 'analyzing',\n",
       " 'vast',\n",
       " 'amounts',\n",
       " 'of',\n",
       " 'data',\n",
       " ',',\n",
       " 'AI',\n",
       " 'systems',\n",
       " 'can',\n",
       " 'recognize',\n",
       " 'patterns',\n",
       " 'and',\n",
       " 'predict',\n",
       " 'outcomes',\n",
       " '.',\n",
       " 'However',\n",
       " ',',\n",
       " 'ethical',\n",
       " 'concerns',\n",
       " 'such',\n",
       " 'as',\n",
       " 'job',\n",
       " 'displacement',\n",
       " ',',\n",
       " 'privacy',\n",
       " ',',\n",
       " 'and',\n",
       " 'bias',\n",
       " 'must',\n",
       " 'be',\n",
       " 'addressed',\n",
       " '.',\n",
       " 'As',\n",
       " 'AI',\n",
       " 'continues',\n",
       " 'to',\n",
       " 'evolve',\n",
       " ',',\n",
       " 'it',\n",
       " 'holds',\n",
       " 'the',\n",
       " 'potential',\n",
       " 'to',\n",
       " 'greatly',\n",
       " 'benefit',\n",
       " 'society',\n",
       " 'while',\n",
       " 'requiring',\n",
       " 'responsible',\n",
       " 'development',\n",
       " 'and',\n",
       " 'thoughtful',\n",
       " 'regulation',\n",
       " 'to',\n",
       " 'ensure',\n",
       " 'its',\n",
       " 'safe',\n",
       " 'use',\n",
       " '.']"
      ]
     },
     "execution_count": 23,
     "metadata": {},
     "output_type": "execute_result"
    }
   ],
   "source": [
    "word_tokenize(corpus)"
   ]
  },
  {
   "cell_type": "code",
   "execution_count": 24,
   "metadata": {},
   "outputs": [
    {
     "name": "stdout",
     "output_type": "stream",
     "text": [
      "['Artificial', 'Intelligence', '(', 'AI', ')', 'is', 'the', 'simulation', 'of', 'human', 'intelligence', 'in', 'machines', 'that', 'are', 'programmed', 'to', 'think', ',', 'learn', ',', 'and', 'make', 'decisions', '.']\n",
      "['It', 'powers', 'technologies', 'like', 'virtual', 'assistants', ',', 'self-driving', 'cars', ',', 'and', 'recommendation', 'systems', '.']\n",
      "['AI', 'improves', 'efficiency', ',', 'automates', 'tasks', ',', 'and', 'helps', 'solve', 'complex', 'problems', 'in', 'fields', 'such', 'as', 'healthcare', ',', 'finance', ',', 'and', 'education', '.']\n",
      "['By', 'analyzing', 'vast', 'amounts', 'of', 'data', ',', 'AI', 'systems', 'can', 'recognize', 'patterns', 'and', 'predict', 'outcomes', '.']\n",
      "['However', ',', 'ethical', 'concerns', 'such', 'as', 'job', 'displacement', ',', 'privacy', ',', 'and', 'bias', 'must', 'be', 'addressed', '.']\n",
      "['As', 'AI', 'continues', 'to', 'evolve', ',', 'it', 'holds', 'the', 'potential', 'to', 'greatly', 'benefit', 'society', 'while', 'requiring', 'responsible', 'development', 'and', 'thoughtful', 'regulation', 'to', 'ensure', 'its', 'safe', 'use', '.']\n"
     ]
    }
   ],
   "source": [
    "for sentence in documents:\n",
    "    print(word_tokenize(sentence))"
   ]
  },
  {
   "cell_type": "code",
   "execution_count": 25,
   "metadata": {},
   "outputs": [],
   "source": [
    "from nltk.tokenize import wordpunct_tokenize"
   ]
  },
  {
   "cell_type": "code",
   "execution_count": 26,
   "metadata": {},
   "outputs": [
    {
     "data": {
      "text/plain": [
       "['Artificial',\n",
       " 'Intelligence',\n",
       " '(',\n",
       " 'AI',\n",
       " ')',\n",
       " 'is',\n",
       " 'the',\n",
       " 'simulation',\n",
       " 'of',\n",
       " 'human',\n",
       " 'intelligence',\n",
       " 'in',\n",
       " 'machines',\n",
       " 'that',\n",
       " 'are',\n",
       " 'programmed',\n",
       " 'to',\n",
       " 'think',\n",
       " ',',\n",
       " 'learn',\n",
       " ',',\n",
       " 'and',\n",
       " 'make',\n",
       " 'decisions',\n",
       " '.',\n",
       " 'It',\n",
       " 'powers',\n",
       " 'technologies',\n",
       " 'like',\n",
       " 'virtual',\n",
       " 'assistants',\n",
       " ',',\n",
       " 'self',\n",
       " '-',\n",
       " 'driving',\n",
       " 'cars',\n",
       " ',',\n",
       " 'and',\n",
       " 'recommendation',\n",
       " 'systems',\n",
       " '.',\n",
       " 'AI',\n",
       " 'improves',\n",
       " 'efficiency',\n",
       " ',',\n",
       " 'automates',\n",
       " 'tasks',\n",
       " ',',\n",
       " 'and',\n",
       " 'helps',\n",
       " 'solve',\n",
       " 'complex',\n",
       " 'problems',\n",
       " 'in',\n",
       " 'fields',\n",
       " 'such',\n",
       " 'as',\n",
       " 'healthcare',\n",
       " ',',\n",
       " 'finance',\n",
       " ',',\n",
       " 'and',\n",
       " 'education',\n",
       " '.',\n",
       " 'By',\n",
       " 'analyzing',\n",
       " 'vast',\n",
       " 'amounts',\n",
       " 'of',\n",
       " 'data',\n",
       " ',',\n",
       " 'AI',\n",
       " 'systems',\n",
       " 'can',\n",
       " 'recognize',\n",
       " 'patterns',\n",
       " 'and',\n",
       " 'predict',\n",
       " 'outcomes',\n",
       " '.',\n",
       " 'However',\n",
       " ',',\n",
       " 'ethical',\n",
       " 'concerns',\n",
       " 'such',\n",
       " 'as',\n",
       " 'job',\n",
       " 'displacement',\n",
       " ',',\n",
       " 'privacy',\n",
       " ',',\n",
       " 'and',\n",
       " 'bias',\n",
       " 'must',\n",
       " 'be',\n",
       " 'addressed',\n",
       " '.',\n",
       " 'As',\n",
       " 'AI',\n",
       " 'continues',\n",
       " 'to',\n",
       " 'evolve',\n",
       " ',',\n",
       " 'it',\n",
       " 'holds',\n",
       " 'the',\n",
       " 'potential',\n",
       " 'to',\n",
       " 'greatly',\n",
       " 'benefit',\n",
       " 'society',\n",
       " 'while',\n",
       " 'requiring',\n",
       " 'responsible',\n",
       " 'development',\n",
       " 'and',\n",
       " 'thoughtful',\n",
       " 'regulation',\n",
       " 'to',\n",
       " 'ensure',\n",
       " 'its',\n",
       " 'safe',\n",
       " 'use',\n",
       " '.']"
      ]
     },
     "execution_count": 26,
     "metadata": {},
     "output_type": "execute_result"
    }
   ],
   "source": [
    "wordpunct_tokenize(corpus)"
   ]
  },
  {
   "cell_type": "code",
   "execution_count": 27,
   "metadata": {},
   "outputs": [],
   "source": [
    "from nltk.tokenize import TreebankWordTokenizer"
   ]
  },
  {
   "cell_type": "code",
   "execution_count": 28,
   "metadata": {},
   "outputs": [],
   "source": [
    "tokenizer=TreebankWordTokenizer()"
   ]
  },
  {
   "cell_type": "code",
   "execution_count": 29,
   "metadata": {},
   "outputs": [
    {
     "data": {
      "text/plain": [
       "['Artificial',\n",
       " 'Intelligence',\n",
       " '(',\n",
       " 'AI',\n",
       " ')',\n",
       " 'is',\n",
       " 'the',\n",
       " 'simulation',\n",
       " 'of',\n",
       " 'human',\n",
       " 'intelligence',\n",
       " 'in',\n",
       " 'machines',\n",
       " 'that',\n",
       " 'are',\n",
       " 'programmed',\n",
       " 'to',\n",
       " 'think',\n",
       " ',',\n",
       " 'learn',\n",
       " ',',\n",
       " 'and',\n",
       " 'make',\n",
       " 'decisions.',\n",
       " 'It',\n",
       " 'powers',\n",
       " 'technologies',\n",
       " 'like',\n",
       " 'virtual',\n",
       " 'assistants',\n",
       " ',',\n",
       " 'self-driving',\n",
       " 'cars',\n",
       " ',',\n",
       " 'and',\n",
       " 'recommendation',\n",
       " 'systems.',\n",
       " 'AI',\n",
       " 'improves',\n",
       " 'efficiency',\n",
       " ',',\n",
       " 'automates',\n",
       " 'tasks',\n",
       " ',',\n",
       " 'and',\n",
       " 'helps',\n",
       " 'solve',\n",
       " 'complex',\n",
       " 'problems',\n",
       " 'in',\n",
       " 'fields',\n",
       " 'such',\n",
       " 'as',\n",
       " 'healthcare',\n",
       " ',',\n",
       " 'finance',\n",
       " ',',\n",
       " 'and',\n",
       " 'education.',\n",
       " 'By',\n",
       " 'analyzing',\n",
       " 'vast',\n",
       " 'amounts',\n",
       " 'of',\n",
       " 'data',\n",
       " ',',\n",
       " 'AI',\n",
       " 'systems',\n",
       " 'can',\n",
       " 'recognize',\n",
       " 'patterns',\n",
       " 'and',\n",
       " 'predict',\n",
       " 'outcomes.',\n",
       " 'However',\n",
       " ',',\n",
       " 'ethical',\n",
       " 'concerns',\n",
       " 'such',\n",
       " 'as',\n",
       " 'job',\n",
       " 'displacement',\n",
       " ',',\n",
       " 'privacy',\n",
       " ',',\n",
       " 'and',\n",
       " 'bias',\n",
       " 'must',\n",
       " 'be',\n",
       " 'addressed.',\n",
       " 'As',\n",
       " 'AI',\n",
       " 'continues',\n",
       " 'to',\n",
       " 'evolve',\n",
       " ',',\n",
       " 'it',\n",
       " 'holds',\n",
       " 'the',\n",
       " 'potential',\n",
       " 'to',\n",
       " 'greatly',\n",
       " 'benefit',\n",
       " 'society',\n",
       " 'while',\n",
       " 'requiring',\n",
       " 'responsible',\n",
       " 'development',\n",
       " 'and',\n",
       " 'thoughtful',\n",
       " 'regulation',\n",
       " 'to',\n",
       " 'ensure',\n",
       " 'its',\n",
       " 'safe',\n",
       " 'use',\n",
       " '.']"
      ]
     },
     "execution_count": 29,
     "metadata": {},
     "output_type": "execute_result"
    }
   ],
   "source": [
    "tokenizer.tokenize(corpus)"
   ]
  }
 ],
 "metadata": {
  "kernelspec": {
   "display_name": "Python 3",
   "language": "python",
   "name": "python3"
  },
  "language_info": {
   "codemirror_mode": {
    "name": "ipython",
    "version": 3
   },
   "file_extension": ".py",
   "mimetype": "text/x-python",
   "name": "python",
   "nbconvert_exporter": "python",
   "pygments_lexer": "ipython3",
   "version": "3.10.6"
  }
 },
 "nbformat": 4,
 "nbformat_minor": 4
}
